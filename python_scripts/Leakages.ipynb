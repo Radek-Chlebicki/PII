{
 "cells": [
  {
   "cell_type": "code",
   "execution_count": null,
   "metadata": {},
   "outputs": [],
   "source": [
    "\"\"\"\n",
    "1) we have a json where we have rows which are categories, values are touples (popularity, site)\n",
    "make into a df - \n",
    "2) we have hars where we do not know the site, \n",
    "3) we want to convert the har to a df of leakages for the site \n",
    "    find all instances where hash was sent to third party, \n",
    "    can har be converted to df and if so why \n",
    "    \n",
    "\n",
    "4) we want to find cname instances in that har - find all requests to different etld + 1, with sensitive data, then check for cname cloaking. \n",
    "5) \n",
    "\n",
    "\n",
    "\n",
    "hars to leakages(site, raw_leak, )\n",
    "hars to cname instances, then cnames to leakages \n",
    "summarize leakage instances by site\n",
    "\"\"\""
   ]
  }
 ],
 "metadata": {
  "language_info": {
   "name": "python"
  },
  "orig_nbformat": 4
 },
 "nbformat": 4,
 "nbformat_minor": 2
}
