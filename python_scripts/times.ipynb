{
 "cells": [
  {
   "cell_type": "code",
   "execution_count": 9,
   "metadata": {},
   "outputs": [],
   "source": [
    "import haralyzer as haralyzer\n",
    "import csv as csv\n",
    "import json as json\n",
    "import os as os\n",
    "import pandas as pd \n",
    "import multiprocessing\n",
    "import traceback\n",
    "\n",
    "def harToTimes(aTup):\n",
    "    harPath = aTup[0]\n",
    "    harFolder = aTup[1]\n",
    "\n",
    "    firstParty = harPath.rsplit(\".\",1)[0]\n",
    "    # print(firstParty)\n",
    "    harJson = None\n",
    "    with open(os.path.join(harFolder,harPath), mode=\"r\") as aHar:\n",
    "        try : \n",
    "            harJson = json.load(aHar)\n",
    "        except json.JSONDecodeError as e:\n",
    "            # print(e)\n",
    "            traceback.print_exc()\n",
    "\n",
    "    allEntries = harJson[\"log\"][\"entries\"]\n",
    "    allEntriesWithRequests = list(filter(lambda anEntry : \"request\" in anEntry,allEntries))\n",
    "    thirdPartyEntries = allEntriesWithRequests\n",
    "    times = []\n",
    "    for entry in thirdPartyEntries: \n",
    "        times.append(entry[\"startedDateTime\"])\n",
    "    \n",
    "    return times\n",
    "\n",
    "\n",
    "harFolder = \"../hars_games/\"\n",
    "harPathList : list[str] = [harPath for harPath in os.listdir(harFolder) if  os.path.isfile(os.path.join(harFolder,harPath)) ]    \n",
    "\n",
    "\n",
    "pool = multiprocessing.Pool(14)\n",
    "allTimes= []\n",
    "harPathList = [(harPath, harFolder) for harPath in harPathList]\n",
    "for timeList in pool.imap(harToTimes,harPathList):\n",
    "    allTimes.extend(timeList)\n",
    "pool.close()\n",
    "\n",
    "resultsDf = pd.Series(allTimes)\n"
   ]
  },
  {
   "cell_type": "code",
   "execution_count": 10,
   "metadata": {},
   "outputs": [
    {
     "data": {
      "text/plain": [
       "(18370,)"
      ]
     },
     "execution_count": 10,
     "metadata": {},
     "output_type": "execute_result"
    }
   ],
   "source": [
    "resultsDf[resultsDf.duplicated()].shape"
   ]
  }
 ],
 "metadata": {
  "kernelspec": {
   "display_name": "Python 3",
   "language": "python",
   "name": "python3"
  },
  "language_info": {
   "codemirror_mode": {
    "name": "ipython",
    "version": 3
   },
   "file_extension": ".py",
   "mimetype": "text/x-python",
   "name": "python",
   "nbconvert_exporter": "python",
   "pygments_lexer": "ipython3",
   "version": "3.11.5"
  }
 },
 "nbformat": 4,
 "nbformat_minor": 2
}
